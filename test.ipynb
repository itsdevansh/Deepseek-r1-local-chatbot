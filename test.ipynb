{
 "cells": [
  {
   "cell_type": "code",
   "execution_count": 40,
   "metadata": {},
   "outputs": [],
   "source": [
    "from langchain_ollama.llms import OllamaLLM\n",
    "from dotenv import load_dotenv\n",
    "import streamlit as st\n",
    "from PIL import Image\n",
    "import io\n",
    "import os\n",
    "from langchain_core.prompts import ChatPromptTemplate\n",
    "from langchain_ollama import ChatOllama\n",
    "\n",
    "load_dotenv()\n",
    "\n",
    "MODEL_NAME = os.getenv(\"MODEL_NAME\")\n",
    "llm = ChatOllama(\n",
    "    model=MODEL_NAME,\n",
    "    temperature=0.3,\n",
    "    # other params...\n",
    ")\n",
    "llm.format = \"json\""
   ]
  },
  {
   "cell_type": "code",
   "execution_count": 38,
   "metadata": {},
   "outputs": [],
   "source": [
    "prompt = ChatPromptTemplate.from_messages(\n",
    "    [\n",
    "        (\n",
    "            \"system\",\n",
    "            \"\"\"You are a agent that creates google calendar events. Your output shoould be in the following format:event = {{\n",
    "      \"summary\": \" \",\n",
    "      \"location\": \" \",\n",
    "      \"description\": \" \",\n",
    "      \"start\": {{\n",
    "        \"dateTime\": \" \",\n",
    "        \"timeZone\": \"America/Los_Angeles\",\n",
    "      }},\n",
    "      \"end\": {{\n",
    "        \"dateTime\": \" \",\n",
    "        \"timeZone\": \"America/Los_Angeles\",\n",
    "      }},\n",
    "      \"recurrence\": [\n",
    "        \"RRULE:FREQ=DAILY;COUNT=1\"\n",
    "      ],\n",
    "      \"attendees\": [\n",
    "        {{\"email\": \" \"}},\n",
    "      ],\n",
    "      \"reminders\": {{\n",
    "        \"useDefault\": False,\n",
    "        \"overrides\": [\n",
    "          {{\"method\": \"email\", \"minutes\": 24 * 60}},\n",
    "          {{\"method\": \"popup\", \"minutes\": 10}},\n",
    "        ],\n",
    "      }},\n",
    "    }} \n",
    "    From the user input, see if you can extract relevant information and for information that is missing, you can ask the user questions that you think are necessary to create the event. Remember to cause least friction to the user. Only ask information with technical details, any details that can be inferred from the user input, should be inferred geneously.\n",
    "    \"\"\",\n",
    "        ),\n",
    "        (\"human\", \"{input}\"),\n",
    "    ]\n",
    ")\n",
    "\n",
    "chain = prompt | llm\n",
    "a = chain.invoke({ \n",
    "        \"input\":\"Can you create an event on 5th February 2025 11:00 AM - 2:00 PM to attend a conference at Unviersity of Ottawa with no attendees?\"})"
   ]
  },
  {
   "cell_type": "code",
   "execution_count": 39,
   "metadata": {},
   "outputs": [
    {
     "name": "stdout",
     "output_type": "stream",
     "text": [
      "<think>\n",
      "Okay, so I need to figure out how to create a Google Calendar event based on the user's request. Let me break down what they're asking for.\n",
      "\n",
      "First, the event needs to be on February 5th, 2025, from 11:00 AM to 3:00 PM. The location is the University of Ottawa, and there are no attendees required. They also want reminders set up so that it's not missed.\n",
      "\n",
      "Looking at the structure they provided, I see fields like summary, location, description, start and end times with time zones, recurrence, attendees, and reminders. \n",
      "\n",
      "I notice that in their example response, they filled in most of these fields but left some placeholders for me to ask about if information was missing. So, my job is to check each field and see if I can extract the necessary details from the user's input.\n",
      "\n",
      "The event summary isn't provided yet, so I should probably set a default like \"University of Ottawa Conference\" since that's what they mentioned in their request.\n",
      "\n",
      "For location, it's specified as the University of Ottawa, but maybe adding a more specific room or venue could be helpful. However, since the user didn't mention any particular room, I might leave it as just the university unless I can infer something else from context.\n",
      "\n",
      "The description is currently empty. Including an event description would make the calendar entry clearer and help attendees understand what's happening. So, I should prompt them to add a description or summary of the conference.\n",
      "\n",
      "Looking at the start time, they provided 11:00 AM, but it's in Pacific Time (PT) because the user mentioned \"America/Los_Angeles\" as the timezone. However, if the event is happening east coast time, I might need to adjust that. Wait, no—the user specified Los Angeles, so the event should be set in PT.\n",
      "\n",
      "The end time is 2:00 PM, which seems straightforward. \n",
      "\n",
      "Recurrence is daily with a count of 1, so that's fine as it is since they only want one occurrence on February 5th.\n",
      "\n",
      "Attendees are currently empty because there are none required. The user specified no attendees, so I don't need to collect any emails here.\n",
      "\n",
      "For reminders, the user wants email and popup notifications at specific times: 24 hours before (so 11 AM on the 3rd) and 10 minutes after starting (which would be 11:10 AM). That seems good, but I should make sure that's correctly formatted in the response.\n",
      "\n",
      "Wait, in their example response, they included the timezone as \"America/Los_Angeles\" for both start and end times. So I need to ensure consistency there.\n",
      "\n",
      "I think I've covered all the fields except for the summary and description. Since the user didn't provide those, I should ask them to add a summary or description so that the event is more informative on the calendar.\n",
      "\n",
      "So putting it all together, I can structure the response by filling in what's known and asking for the missing details.\n",
      "</think>\n",
      "\n",
      "To create the Google Calendar event as per your request, here's the structured information:\n",
      "\n",
      "- **Summary**: Please provide a title such as \"University of Ottawa Conference.\"\n",
      "- **Location**: University of Ottawa (specific room or venue not provided).\n",
      "- **Description**: Add a brief description or summary of the conference.\n",
      "- **Start Time**: 11:00 AM on February 5, 2025 (Pacific Time).\n",
      "- **End Time**: 3:00 PM on February 5, 2025 (Pacific Time).\n",
      "- **Recurrence**: Daily with a count of 1.\n",
      "- **Attendees**: None required.\n",
      "- **Reminders**: \n",
      "  - Email reminder set for 24 hours before the event starts (11:00 AM on February 3, 2025).\n",
      "  - Popup reminder set at 10 minutes after the start time (11:10 AM on February 5, 2025).\n",
      "\n",
      "Please provide a summary or description for better clarity.\n"
     ]
    }
   ],
   "source": [
    "print(a.content)"
   ]
  },
  {
   "cell_type": "code",
   "execution_count": 50,
   "metadata": {},
   "outputs": [
    {
     "name": "stdout",
     "output_type": "stream",
     "text": [
      "Please visit this URL to authorize this application: https://accounts.google.com/o/oauth2/auth?response_type=code&client_id=672071315280-eh79l4fu8iplnfupom24u5rnq37msdag.apps.googleusercontent.com&redirect_uri=http%3A%2F%2Flocalhost%3A56380%2F&scope=https%3A%2F%2Fwww.googleapis.com%2Fauth%2Fcalendar&state=8As7chXBLDbDg076LzmjCkZMLqB6km&access_type=offline\n"
     ]
    },
    {
     "data": {
      "text/plain": [
       "[{'name': 'create_event',\n",
       "  'args': {'attendees': [''],\n",
       "   'end_time': '2025-02-05T14:00:00-05:00',\n",
       "   'location': 'University of Ottawa',\n",
       "   'start_time': '2025-02-05T11:00:00-05:00'},\n",
       "  'id': '45859898-ec82-4a3b-badc-c2e15a6c1994',\n",
       "  'type': 'tool_call'}]"
      ]
     },
     "execution_count": 50,
     "metadata": {},
     "output_type": "execute_result"
    }
   ],
   "source": [
    "from typing import List\n",
    "from langchain_core.tools import tool\n",
    "from langchain_ollama import ChatOllama\n",
    "from event_handler import create_event\n",
    "\n",
    "MODEL_NAME = os.getenv(\"MODEL_NAME\")\n",
    "llm = ChatOllama(\n",
    "    model=\"llama3.2:latest\",\n",
    "    temperature=0.3,\n",
    "    # other params...\n",
    ").bind_tools([create_event])\n",
    "# llm.format = \"json\"\n",
    "\n",
    "result = llm.invoke(\n",
    "    \"Can you create a google event on 5th February 2025 11:00 AM - 2:00 PM to attend a conference at Unviersity of Ottawa with no attendees?\"\n",
    ")\n",
    "result.tool_calls"
   ]
  },
  {
   "cell_type": "code",
   "execution_count": 47,
   "metadata": {},
   "outputs": [
    {
     "name": "stdout",
     "output_type": "stream",
     "text": [
      "content='' additional_kwargs={} response_metadata={'model': 'llama3.2:latest', 'created_at': '2025-01-25T22:27:58.192299Z', 'done': True, 'done_reason': 'stop', 'total_duration': 4071359750, 'load_duration': 820197584, 'prompt_eval_count': 303, 'prompt_eval_duration': 1568000000, 'eval_count': 70, 'eval_duration': 1677000000, 'message': Message(role='assistant', content='', images=None, tool_calls=None)} id='run-2a4a6c16-e940-45e7-9c11-f9aa47bde46b-0' tool_calls=[{'name': 'create_event', 'args': {'attendees': [], 'end_time': '2025-02-05T14:00:00-05:00', 'location': 'University of Ottawa', 'start_time': '2025-02-05T11:00:00-05:00'}, 'id': 'e9371dc8-9908-4d75-bc8f-1b91f692f928', 'type': 'tool_call'}] usage_metadata={'input_tokens': 303, 'output_tokens': 70, 'total_tokens': 373}\n"
     ]
    }
   ],
   "source": [
    "print(result)"
   ]
  },
  {
   "cell_type": "code",
   "execution_count": 51,
   "metadata": {},
   "outputs": [],
   "source": [
    "## Check the Langgraph Imlementation of the ReAct Agent"
   ]
  },
  {
   "cell_type": "markdown",
   "metadata": {},
   "source": []
  },
  {
   "cell_type": "code",
   "execution_count": null,
   "metadata": {},
   "outputs": [
    {
     "ename": "TypeError",
     "evalue": "create_react_agent() missing 2 required positional arguments: 'model' and 'tools'",
     "output_type": "error",
     "traceback": [
      "\u001b[0;31m---------------------------------------------------------------------------\u001b[0m",
      "\u001b[0;31mTypeError\u001b[0m                                 Traceback (most recent call last)",
      "Cell \u001b[0;32mIn[53], line 2\u001b[0m\n\u001b[1;32m      1\u001b[0m \u001b[38;5;28;01mfrom\u001b[39;00m\u001b[38;5;250m \u001b[39m\u001b[38;5;21;01mlanggraph\u001b[39;00m\u001b[38;5;21;01m.\u001b[39;00m\u001b[38;5;21;01mprebuilt\u001b[39;00m\u001b[38;5;250m \u001b[39m\u001b[38;5;28;01mimport\u001b[39;00m create_react_agent\n\u001b[0;32m----> 2\u001b[0m \u001b[38;5;28mprint\u001b[39m(\u001b[43mcreate_react_agent\u001b[49m\u001b[43m(\u001b[49m\u001b[43m)\u001b[49m)\n",
      "File \u001b[0;32m~/Desktop/Deepseek-r1-local-chatbot/venv/lib/python3.12/site-packages/langgraph/_api/deprecation.py:80\u001b[0m, in \u001b[0;36mdeprecated_parameter.<locals>.decorator.<locals>.wrapper\u001b[0;34m(*args, **kwargs)\u001b[0m\n\u001b[1;32m     72\u001b[0m \u001b[38;5;28;01mif\u001b[39;00m arg_name \u001b[38;5;129;01min\u001b[39;00m kwargs:\n\u001b[1;32m     73\u001b[0m     warnings\u001b[38;5;241m.\u001b[39mwarn(\n\u001b[1;32m     74\u001b[0m         \u001b[38;5;124mf\u001b[39m\u001b[38;5;124m\"\u001b[39m\u001b[38;5;124mParameter \u001b[39m\u001b[38;5;124m'\u001b[39m\u001b[38;5;132;01m{\u001b[39;00marg_name\u001b[38;5;132;01m}\u001b[39;00m\u001b[38;5;124m'\u001b[39m\u001b[38;5;124m in function \u001b[39m\u001b[38;5;124m'\u001b[39m\u001b[38;5;132;01m{\u001b[39;00mfunc\u001b[38;5;241m.\u001b[39m\u001b[38;5;18m__name__\u001b[39m\u001b[38;5;132;01m}\u001b[39;00m\u001b[38;5;124m'\u001b[39m\u001b[38;5;124m is \u001b[39m\u001b[38;5;124m\"\u001b[39m\n\u001b[1;32m     75\u001b[0m         \u001b[38;5;124mf\u001b[39m\u001b[38;5;124m\"\u001b[39m\u001b[38;5;124mdeprecated as of version \u001b[39m\u001b[38;5;132;01m{\u001b[39;00msince\u001b[38;5;132;01m}\u001b[39;00m\u001b[38;5;124m and will be removed in version \u001b[39m\u001b[38;5;132;01m{\u001b[39;00mremoval\u001b[38;5;132;01m}\u001b[39;00m\u001b[38;5;124m. \u001b[39m\u001b[38;5;124m\"\u001b[39m\n\u001b[0;32m   (...)\u001b[0m\n\u001b[1;32m     78\u001b[0m         stacklevel\u001b[38;5;241m=\u001b[39m\u001b[38;5;241m2\u001b[39m,\n\u001b[1;32m     79\u001b[0m     )\n\u001b[0;32m---> 80\u001b[0m \u001b[38;5;28;01mreturn\u001b[39;00m \u001b[43mfunc\u001b[49m\u001b[43m(\u001b[49m\u001b[38;5;241;43m*\u001b[39;49m\u001b[43margs\u001b[49m\u001b[43m,\u001b[49m\u001b[43m \u001b[49m\u001b[38;5;241;43m*\u001b[39;49m\u001b[38;5;241;43m*\u001b[39;49m\u001b[43mkwargs\u001b[49m\u001b[43m)\u001b[49m\n",
      "\u001b[0;31mTypeError\u001b[0m: create_react_agent() missing 2 required positional arguments: 'model' and 'tools'"
     ]
    }
   ],
   "source": [
    "from langgraph.prebuilt import create_react_agent\n",
    "print(create_react_agent())"
   ]
  },
  {
   "cell_type": "code",
   "execution_count": null,
   "metadata": {},
   "outputs": [],
   "source": []
  }
 ],
 "metadata": {
  "kernelspec": {
   "display_name": "venv",
   "language": "python",
   "name": "python3"
  },
  "language_info": {
   "codemirror_mode": {
    "name": "ipython",
    "version": 3
   },
   "file_extension": ".py",
   "mimetype": "text/x-python",
   "name": "python",
   "nbconvert_exporter": "python",
   "pygments_lexer": "ipython3",
   "version": "3.12.4"
  }
 },
 "nbformat": 4,
 "nbformat_minor": 2
}

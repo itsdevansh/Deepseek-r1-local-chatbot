{
 "cells": [
  {
   "cell_type": "code",
   "execution_count": 37,
   "metadata": {},
   "outputs": [],
   "source": [
    "from langchain_ollama.llms import OllamaLLM\n",
    "from dotenv import load_dotenv\n",
    "import streamlit as st\n",
    "from PIL import Image\n",
    "import io\n",
    "import os\n",
    "from langchain_core.prompts import ChatPromptTemplate\n",
    "from langchain_ollama import ChatOllama\n",
    "\n",
    "load_dotenv()\n",
    "\n",
    "MODEL_NAME = os.getenv(\"MODEL_NAME\")\n",
    "llm = ChatOllama(\n",
    "    model=MODEL_NAME,\n",
    "    temperature=0.3,\n",
    "    # other params...\n",
    ")\n",
    "llm.format = \"json\""
   ]
  },
  {
   "cell_type": "code",
   "execution_count": 38,
   "metadata": {},
   "outputs": [],
   "source": [
    "prompt = ChatPromptTemplate.from_messages(\n",
    "    [\n",
    "        (\n",
    "            \"system\",\n",
    "            \"\"\"You are a agent that creates google calendar events. Your output shoould be in the following format:event = {{\n",
    "      \"summary\": \" \",\n",
    "      \"location\": \" \",\n",
    "      \"description\": \" \",\n",
    "      \"start\": {{\n",
    "        \"dateTime\": \" \",\n",
    "        \"timeZone\": \"America/Los_Angeles\",\n",
    "      }},\n",
    "      \"end\": {{\n",
    "        \"dateTime\": \" \",\n",
    "        \"timeZone\": \"America/Los_Angeles\",\n",
    "      }},\n",
    "      \"recurrence\": [\n",
    "        \"RRULE:FREQ=DAILY;COUNT=1\"\n",
    "      ],\n",
    "      \"attendees\": [\n",
    "        {{\"email\": \" \"}},\n",
    "      ],\n",
    "      \"reminders\": {{\n",
    "        \"useDefault\": False,\n",
    "        \"overrides\": [\n",
    "          {{\"method\": \"email\", \"minutes\": 24 * 60}},\n",
    "          {{\"method\": \"popup\", \"minutes\": 10}},\n",
    "        ],\n",
    "      }},\n",
    "    }} \n",
    "    From the user input, see if you can extract relevant information and for information that is missing, you can ask the user questions that you think are necessary to create the event. Remember to cause least friction to the user. Only ask information with technical details, any details that can be inferred from the user input, should be inferred geneously.\n",
    "    \"\"\",\n",
    "        ),\n",
    "        (\"human\", \"{input}\"),\n",
    "    ]\n",
    ")\n",
    "\n",
    "chain = prompt | llm\n",
    "a = chain.invoke({ \n",
    "        \"input\":\"Can you create an event on 5th February 2025 11:00 AM - 2:00 PM to attend a conference at Unviersity of Ottawa with no attendees?\"})"
   ]
  },
  {
   "cell_type": "code",
   "execution_count": 39,
   "metadata": {},
   "outputs": [
    {
     "name": "stdout",
     "output_type": "stream",
     "text": [
      "<think>\n",
      "Okay, so I need to figure out how to create a Google Calendar event based on the user's request. Let me break down what they're asking for.\n",
      "\n",
      "First, the event needs to be on February 5th, 2025, from 11:00 AM to 3:00 PM. The location is the University of Ottawa, and there are no attendees required. They also want reminders set up so that it's not missed.\n",
      "\n",
      "Looking at the structure they provided, I see fields like summary, location, description, start and end times with time zones, recurrence, attendees, and reminders. \n",
      "\n",
      "I notice that in their example response, they filled in most of these fields but left some placeholders for me to ask about if information was missing. So, my job is to check each field and see if I can extract the necessary details from the user's input.\n",
      "\n",
      "The event summary isn't provided yet, so I should probably set a default like \"University of Ottawa Conference\" since that's what they mentioned in their request.\n",
      "\n",
      "For location, it's specified as the University of Ottawa, but maybe adding a more specific room or venue could be helpful. However, since the user didn't mention any particular room, I might leave it as just the university unless I can infer something else from context.\n",
      "\n",
      "The description is currently empty. Including an event description would make the calendar entry clearer and help attendees understand what's happening. So, I should prompt them to add a description or summary of the conference.\n",
      "\n",
      "Looking at the start time, they provided 11:00 AM, but it's in Pacific Time (PT) because the user mentioned \"America/Los_Angeles\" as the timezone. However, if the event is happening east coast time, I might need to adjust that. Wait, no—the user specified Los Angeles, so the event should be set in PT.\n",
      "\n",
      "The end time is 2:00 PM, which seems straightforward. \n",
      "\n",
      "Recurrence is daily with a count of 1, so that's fine as it is since they only want one occurrence on February 5th.\n",
      "\n",
      "Attendees are currently empty because there are none required. The user specified no attendees, so I don't need to collect any emails here.\n",
      "\n",
      "For reminders, the user wants email and popup notifications at specific times: 24 hours before (so 11 AM on the 3rd) and 10 minutes after starting (which would be 11:10 AM). That seems good, but I should make sure that's correctly formatted in the response.\n",
      "\n",
      "Wait, in their example response, they included the timezone as \"America/Los_Angeles\" for both start and end times. So I need to ensure consistency there.\n",
      "\n",
      "I think I've covered all the fields except for the summary and description. Since the user didn't provide those, I should ask them to add a summary or description so that the event is more informative on the calendar.\n",
      "\n",
      "So putting it all together, I can structure the response by filling in what's known and asking for the missing details.\n",
      "</think>\n",
      "\n",
      "To create the Google Calendar event as per your request, here's the structured information:\n",
      "\n",
      "- **Summary**: Please provide a title such as \"University of Ottawa Conference.\"\n",
      "- **Location**: University of Ottawa (specific room or venue not provided).\n",
      "- **Description**: Add a brief description or summary of the conference.\n",
      "- **Start Time**: 11:00 AM on February 5, 2025 (Pacific Time).\n",
      "- **End Time**: 3:00 PM on February 5, 2025 (Pacific Time).\n",
      "- **Recurrence**: Daily with a count of 1.\n",
      "- **Attendees**: None required.\n",
      "- **Reminders**: \n",
      "  - Email reminder set for 24 hours before the event starts (11:00 AM on February 3, 2025).\n",
      "  - Popup reminder set at 10 minutes after the start time (11:10 AM on February 5, 2025).\n",
      "\n",
      "Please provide a summary or description for better clarity.\n"
     ]
    }
   ],
   "source": [
    "print(a.content)"
   ]
  },
  {
   "cell_type": "code",
   "execution_count": 20,
   "metadata": {},
   "outputs": [
    {
     "name": "stdout",
     "output_type": "stream",
     "text": [
      "model='deepseek-r1:7b' temperature=0.7\n"
     ]
    }
   ],
   "source": [
    "print(llm)"
   ]
  }
 ],
 "metadata": {
  "kernelspec": {
   "display_name": "venv",
   "language": "python",
   "name": "python3"
  },
  "language_info": {
   "codemirror_mode": {
    "name": "ipython",
    "version": 3
   },
   "file_extension": ".py",
   "mimetype": "text/x-python",
   "name": "python",
   "nbconvert_exporter": "python",
   "pygments_lexer": "ipython3",
   "version": "3.12.4"
  }
 },
 "nbformat": 4,
 "nbformat_minor": 2
}
